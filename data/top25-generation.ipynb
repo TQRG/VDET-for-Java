{
 "cells": [
  {
   "cell_type": "code",
   "execution_count": 2,
   "metadata": {},
   "outputs": [],
   "source": [
    "import pandas as pd"
   ]
  },
  {
   "cell_type": "code",
   "execution_count": 3,
   "metadata": {},
   "outputs": [],
   "source": [
    "df = pd.read_csv('../data/crawler/cwes_crawler/docs/cwes.csv')"
   ]
  },
  {
   "cell_type": "code",
   "execution_count": 4,
   "metadata": {},
   "outputs": [],
   "source": [
    "LANGUAGES = {\n",
    "    'C' , 'C++', 'Perl',\n",
    "    'Java', 'PHP', \n",
    "    'Assembly', 'Python', \n",
    "    'Go', 'JavaScript', \n",
    "    'Interpreted', 'Compiled', \n",
    "    'Ruby', 'ASP.NET',\n",
    "    'Not-Language-Specific'\n",
    "}\n",
    "\n",
    "TECHNOLOGIES = {\n",
    "    'Database-Server', 'Mobile',\n",
    "    'Cloud-Computing', 'Web-Server',\n",
    "    'ICS/OT', 'Web-Based',\n",
    "    'Not-Technology-Specific'\n",
    "}\n",
    "\n",
    "OS = {\n",
    "    'Windows', \n",
    "    'Unix',\n",
    "    'Not-OS-Specific'\n",
    "}\n",
    "\n",
    "ARCHITECTURE = {\n",
    "    'Not-Architecture-Specific',\n",
    "}"
   ]
  },
  {
   "cell_type": "code",
   "execution_count": 5,
   "metadata": {},
   "outputs": [],
   "source": [
    "# Process df['PLATFORMS'] \n",
    "\n",
    "def extract_languages(platforms: str):\n",
    "    platforms = platforms.replace(\"Class: \", \"\")\n",
    "    platforms = platforms.split(\" \")\n",
    "\n",
    "    languages = []\n",
    "\n",
    "    for _elem in platforms:\n",
    "        if _elem in LANGUAGES:\n",
    "            languages.append(_elem)\n",
    " \n",
    "    if not languages: \n",
    "        languages.append(\"Not-Language-Specific\")\n",
    "    \n",
    "    return languages\n",
    "\n",
    "\n",
    "def extract_technologies(platforms: str):\n",
    "    platforms = platforms.replace(\"Class: \", \"\")\n",
    "    platforms = platforms.split(\" \")\n",
    "\n",
    "    technologies = []\n",
    "\n",
    "    for _elem in platforms:\n",
    "        if _elem in TECHNOLOGIES:\n",
    "            technologies.append(_elem)\n",
    " \n",
    "    if not technologies: \n",
    "        technologies.append(\"Not-Technology-Specific\")\n",
    "    \n",
    "    return technologies\n",
    "\n",
    "def extract_os(platforms: str):\n",
    "    platforms = platforms.replace(\"Class: \", \"\")\n",
    "    platforms = platforms.split(\" \")\n",
    "\n",
    "    os = []\n",
    "\n",
    "    for _elem in platforms:\n",
    "        if _elem in OS:\n",
    "            os.append(_elem)\n",
    " \n",
    "    if not os: \n",
    "        os.append(\"Not-OS-Specific\")\n",
    "    \n",
    "    return os\n",
    "\n",
    "\n",
    "def extract_architectures(platforms: str):\n",
    "    platforms = platforms.replace(\"Class: \", \"\")\n",
    "    platforms = platforms.split(\" \")\n",
    "\n",
    "    architectures = []\n",
    "\n",
    "    for _elem in platforms:\n",
    "        if _elem in ARCHITECTURE:\n",
    "            architectures.append(_elem)\n",
    " \n",
    "    if not architectures: \n",
    "        architectures.append(\"Not-Architecture-Specific\")\n",
    "    \n",
    "    return architectures\n",
    "\n",
    "df['LANGUAGES'] = [extract_languages(str(x)) for x in df['PLATFORMS']]\n",
    "df['ARCHITECTURE'] = [extract_architectures(str(x)) for x in df['PLATFORMS']]\n",
    "df['TECHNOLOGIES'] = [extract_technologies(str(x)) for x in df['PLATFORMS']]\n",
    "df['OS'] = [extract_os(str(x)) for x in df['PLATFORMS']]"
   ]
  },
  {
   "cell_type": "code",
   "execution_count": 6,
   "metadata": {},
   "outputs": [],
   "source": [
    "top25_cwes = {\n",
    "    'CWE-787', 'CWE-79', 'CWE-89', 'CWE-20', 'CWE-125', 'CWE-78', 'CWE-416', 'CWE-22',\n",
    "    'CWE-352', 'CWE-434', 'CWE-476', 'CWE-502', 'CWE-190', 'CWE-287', 'CWE-798', 'CWE-862',\n",
    "    'CWE-77', 'CWE-306', 'CWE-119', 'CWE-276', 'CWE-918', 'CWE-362', 'CWE-400', 'CWE-611', 'CWE-94'\n",
    "}\n",
    "\n",
    "df_top25 = df[df['CWE'].isin(top25_cwes)]"
   ]
  },
  {
   "cell_type": "code",
   "execution_count": 7,
   "metadata": {},
   "outputs": [],
   "source": [
    "df_top25.to_csv('./crawler/cwes_crawler/docs/top25_cwes.csv')"
   ]
  },
  {
   "cell_type": "code",
   "execution_count": 10,
   "metadata": {},
   "outputs": [],
   "source": [
    "df.to_csv('./crawler/cwes_crawler/docs/cwes.csv')"
   ]
  }
 ],
 "metadata": {
  "kernelspec": {
   "display_name": "Python 3.10.2 64-bit",
   "language": "python",
   "name": "python3"
  },
  "language_info": {
   "codemirror_mode": {
    "name": "ipython",
    "version": 3
   },
   "file_extension": ".py",
   "mimetype": "text/x-python",
   "name": "python",
   "nbconvert_exporter": "python",
   "pygments_lexer": "ipython3",
   "version": "3.10.2"
  },
  "orig_nbformat": 4,
  "vscode": {
   "interpreter": {
    "hash": "116b16ce4771ffbe70767d6473d2ec71e30cb9f23544c16e382302f0f8a58d51"
   }
  }
 },
 "nbformat": 4,
 "nbformat_minor": 2
}
