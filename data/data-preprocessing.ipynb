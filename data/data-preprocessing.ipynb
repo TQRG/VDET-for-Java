{
 "cells": [
  {
   "cell_type": "code",
   "execution_count": 2,
   "metadata": {},
   "outputs": [],
   "source": [
    "import pandas as pd"
   ]
  },
  {
   "cell_type": "code",
   "execution_count": 3,
   "metadata": {},
   "outputs": [
    {
     "name": "stderr",
     "output_type": "stream",
     "text": [
      "C:\\Users\\claud\\AppData\\Local\\Temp\\ipykernel_5424\\2075864243.py:5: SettingWithCopyWarning: \n",
      "A value is trying to be set on a copy of a slice from a DataFrame\n",
      "\n",
      "See the caveats in the documentation: https://pandas.pydata.org/pandas-docs/stable/user_guide/indexing.html#returning-a-view-versus-a-copy\n",
      "  top25_filtered.drop(columns=['Unnamed: 0'], inplace=True)\n"
     ]
    }
   ],
   "source": [
    "# from the top25 cwes, get the ones that are language independent\n",
    "top25 = pd.read_csv('./docs/top25_cwes.csv')\n",
    "\n",
    "top25_filtered = top25[top25['LANGUAGES'] == \"['Not-Language-Specific']\"] \n",
    "top25_filtered.drop(columns=['Unnamed: 0'], inplace=True)"
   ]
  },
  {
   "cell_type": "code",
   "execution_count": 6,
   "metadata": {},
   "outputs": [],
   "source": [
    "cwes = top25_filtered['CWE'].values # only 16 cwes, not-language-specific"
   ]
  },
  {
   "cell_type": "code",
   "execution_count": 64,
   "metadata": {},
   "outputs": [
    {
     "name": "stderr",
     "output_type": "stream",
     "text": [
      "C:\\Users\\claud\\AppData\\Local\\Temp\\ipykernel_5424\\115099630.py:8: DtypeWarning: Columns (20,22,23,27,28,29) have mixed types. Specify dtype option on import or set low_memory=False.\n",
      "  msr = pd.read_csv('./docs/datasets/MSR_data_cleaned.csv')\n",
      "C:\\Users\\claud\\AppData\\Local\\Temp\\ipykernel_5424\\115099630.py:18: SettingWithCopyWarning: \n",
      "A value is trying to be set on a copy of a slice from a DataFrame\n",
      "\n",
      "See the caveats in the documentation: https://pandas.pydata.org/pandas-docs/stable/user_guide/indexing.html#returning-a-view-versus-a-copy\n",
      "  vulnerable_samples.drop(i, inplace=True)\n"
     ]
    }
   ],
   "source": [
    "# Handling MSR_data_cleaned (https://github.com/ZeoVan/MSR_20_Code_vulnerability_CSV_Dataset)\n",
    "# Only C/C++ \n",
    "\n",
    "# COLUMN.func_before: function before the vulnerability being fixed (if \"vul\" labeled as \"1\", then this is the vulnerable function)\n",
    "# COLUMN.func_after : function after the vulnerability being fixed\n",
    "# COLUMN.vul\t    : \"1\" means vulnerable function and \"0\" means non-vulnerable function\n",
    "\n",
    "msr = pd.read_csv('./docs/datasets/MSR_data_cleaned.csv')\n",
    "msr_filtered = msr[msr['CWE ID'].isin(cwes)] \n",
    "\n",
    "\n",
    "# Get only rows with vulnerabilities and patches\n",
    "vulnerable_samples = msr_filtered[msr_filtered['vul'] == 1]\n",
    "\n",
    "counter = 0\n",
    "for i, row in vulnerable_samples.iterrows():\n",
    "    if row['func_after'] == row['func_before']:\n",
    "        vulnerable_samples.drop(i, inplace=True)\n",
    "\n",
    "\n",
    "# Plot CWE distribution\n",
    "vulnerable_samples['CWE ID'].value_counts().plot(kind='barh')"
   ]
  },
  {
   "cell_type": "code",
   "execution_count": 66,
   "metadata": {},
   "outputs": [
    {
     "data": {
      "text/plain": [
       "<AxesSubplot:>"
      ]
     },
     "execution_count": 66,
     "metadata": {},
     "output_type": "execute_result"
    },
    {
     "data": {
      "image/png": "[encoded data removed]",
      "text/plain": [
       "<Figure size 432x288 with 1 Axes>"
      ]
     },
     "metadata": {
      "needs_background": "light"
     },
     "output_type": "display_data"
    }
   ],
   "source": []
  }
 ],
 "metadata": {
  "kernelspec": {
   "display_name": "Python 3.9.12 ('transformer')",
   "language": "python",
   "name": "python3"
  },
  "language_info": {
   "codemirror_mode": {
    "name": "ipython",
    "version": 3
   },
   "file_extension": ".py",
   "mimetype": "text/x-python",
   "name": "python",
   "nbconvert_exporter": "python",
   "pygments_lexer": "ipython3",
   "version": "3.9.12"
  },
  "orig_nbformat": 4,
  "vscode": {
   "interpreter": {
    "hash": "f888ef41740c5f0950d722248fd9546acbdbcaae536f5d16d4da96ebf3f42ca2"
   }
  }
 },
 "nbformat": 4,
 "nbformat_minor": 2
}
