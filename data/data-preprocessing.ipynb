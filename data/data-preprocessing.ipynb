{
 "cells": [
  {
   "cell_type": "code",
   "execution_count": null,
   "metadata": {},
   "outputs": [],
   "source": [
    "import pandas as pd"
   ]
  },
  {
   "cell_type": "code",
   "execution_count": null,
   "metadata": {},
   "outputs": [],
   "source": [
    "# from the top25 cwes, get the ones that are language independent\n",
    "top25 = pd.read_csv('./docs/top25_cwes.csv')\n",
    "\n",
    "top25_filtered = top25[top25['LANGUAGES'] == \"['Not-Language-Specific']\"] \n",
    "top25_filtered.drop(columns=['Unnamed: 0'], inplace=True)"
   ]
  },
  {
   "cell_type": "code",
   "execution_count": null,
   "metadata": {},
   "outputs": [],
   "source": [
    "cwes = top25_filtered['CWE'].values # only 16 cwes, not-language-specific"
   ]
  },
  {
   "cell_type": "code",
   "execution_count": null,
   "metadata": {},
   "outputs": [],
   "source": [
    "# Handling MSR_data_cleaned (https://github.com/ZeoVan/MSR_20_Code_vulnerability_CSV_Dataset)\n",
    "# Only C/C++ \n",
    "\n",
    "# COLUMN.func_before: function before the vulnerability being fixed (if \"vul\" labeled as \"1\", then this is the vulnerable function)\n",
    "# COLUMN.func_after : function after the vulnerability being fixed\n",
    "# COLUMN.vul\t    : \"1\" means vulnerable function and \"0\" means non-vulnerable function\n",
    "\n",
    "msr = pd.read_csv('./docs/datasets/MSR_data_cleaned.csv')\n",
    "msr_filtered = msr[msr['CWE ID'].isin(cwes)] \n",
    "\n",
    "\n",
    "# Get only rows with vulnerabilities and patches\n",
    "vulnerable_samples = msr_filtered[msr_filtered['vul'] == 1]\n",
    "\n",
    "counter = 0\n",
    "for i, row in vulnerable_samples.iterrows():\n",
    "    if row['func_after'] == row['func_before']:\n",
    "        vulnerable_samples.drop(i, inplace=True)\n",
    "\n",
    "\n",
    "# Plot CWE distribution\n",
    "vulnerable_samples['CWE ID'].value_counts().plot(kind='barh')"
   ]
  }
 ],
 "metadata": {
  "kernelspec": {
   "display_name": "Python 3.9.12 ('transformer')",
   "language": "python",
   "name": "python3"
  },
  "language_info": {
   "codemirror_mode": {
    "name": "ipython",
    "version": 3
   },
   "file_extension": ".py",
   "mimetype": "text/x-python",
   "name": "python",
   "nbconvert_exporter": "python",
   "pygments_lexer": "ipython3",
   "version": "3.9.12"
  },
  "orig_nbformat": 4,
  "vscode": {
   "interpreter": {
    "hash": "f888ef41740c5f0950d722248fd9546acbdbcaae536f5d16d4da96ebf3f42ca2"
   }
  }
 },
 "nbformat": 4,
 "nbformat_minor": 2
}
